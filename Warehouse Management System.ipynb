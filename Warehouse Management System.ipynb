{
  "nbformat": 4,
  "nbformat_minor": 0,
  "metadata": {
    "colab": {
      "provenance": []
    },
    "kernelspec": {
      "name": "python3",
      "display_name": "Python 3"
    },
    "language_info": {
      "name": "python"
    }
  },
  "cells": [
    {
      "cell_type": "code",
      "execution_count": 1,
      "metadata": {
        "id": "m22RQWCry1zn"
      },
      "outputs": [],
      "source": [
        "'''\n",
        "Here we will create two classes. One that will hold all the product info, and one to manage the inventory. As the comapny grows it is important to keep all the data\n",
        "about the object in one place-this will be throug the Inventory class. Any manipulation will be then done through the InventoryManger class, ensuring we are not changing\n",
        "any product info within this class-this will be done through calling the Inventory class to make adjustments.\n",
        "'''\n",
        "\n",
        "# Create a class for the inventory object\n",
        "class Inventory:\n",
        "  def __init__(self, item_id, name, quantity, category):\n",
        "    self.item_id = item_id\n",
        "    self.name = name\n",
        "    self.quantity = quantity\n",
        "    self.category = category\n",
        "\n",
        "  # Method to update the quantity\n",
        "  def update(self, new_quantity):\n",
        "    self.quantity += new_quantity\n",
        "\n",
        "  # Method to delete the product\n",
        "  def delete(self):\n",
        "    del self\n",
        "\n",
        "# Create a class for the inventory managment\n",
        "class InventoryManager:\n",
        "  def __init__(self):\n",
        "    # Initialize empty dictionary to store class Inventory objects\n",
        "    self.items = {}\n",
        "\n",
        "  # Create method to add product\n",
        "  def add_item(self, item_id, name, quantity, category):\n",
        "    # Check if product is already created\n",
        "    if item_id in self.items:\n",
        "      user_inp = input(f\"Product with ItemID: {item_id} already exists within the inventory.Did you want to update the quantity of this product? Enter yes or no: \")\n",
        "      if user_inp == \"yes\":\n",
        "        self.update_item(item_id, quantity)\n",
        "      elif user_inp == \"no\":\n",
        "        print(\"Product with ItemID already exists. Please confirm action and try again.\")\n",
        "    else:\n",
        "      self.items[item_id] = Inventory(item_id, name, quantity, category)\n",
        "      print(f\"Successfully added {quantity} {name}'s with ItemID {item_id} into the inventory.\")\n",
        "\n",
        "  # Create method to delete product\n",
        "  def delete_item(self,item_id):\n",
        "    # This will assume we are deleting the entire instance of the item\n",
        "    if item_id in self.items:\n",
        "      self.items[item_id].delete()\n",
        "      print(f\"Successfully deleted product with ItemID {item_id}.\")\n",
        "    else:\n",
        "      print(f\"Error in deletion. ItemID {item_id} not found in inventory.\")\n",
        "\n",
        "  #Create method to update product\n",
        "  def update_item(self, item_id, new_quantity):\n",
        "    if item_id in self.items:\n",
        "      self.items[item_id].update(new_quantity)\n",
        "      self.display(item_id)\n",
        "    else:\n",
        "      user_inp = input(f\"Product with ItemID {item_id} not found in inventory. Would you like to add this item into the inventory? Enter yes or no: \")\n",
        "      if user_inp == \"yes\":\n",
        "        name = input(\"Enter the item name: \")\n",
        "        category = input(\"Enter the item category: \")\n",
        "        self.add_item(item_id, name, new_quantity, category)\n",
        "        self.display(item_id)\n",
        "      elif user_inp == 'no':\n",
        "        print(\"Please try update again with correct ItemID.\")\n",
        "\n",
        "\n",
        "\n",
        "  # Create method to display product\n",
        "  def display(self, item_id):\n",
        "    if item_id in self.items:\n",
        "      item = self.items[item_id]\n",
        "      print(f\"ItemID: {item.item_id}\"\n",
        "            f\"\\nProduct Name: {item.name}\"\n",
        "            f\"\\nQuantity: {item.quantity}\"\n",
        "            f\"\\nCategory: {item.category}\")\n",
        "    else:\n",
        "      print(f\"Error displaying info for product {item_id}.\")\n",
        "\n",
        "# Create an object instance of the InventoryManager class; we can use this object to make changes to our inventory\n",
        "manager = InventoryManager()\n",
        "\n",
        "\n",
        "\n",
        "\n"
      ]
    },
    {
      "cell_type": "code",
      "source": [
        "# Test cases\n",
        "manager.add_item(1,\"Pen\",3,\"Supplies\")\n",
        "manager.add_item(2,\"Laptop\",2,\"Tech\")\n",
        "manager.add_item(3,\"Phone\",2,\"Tech\")\n",
        "manager.add_item(4,\"Large Box\",40,\"Mailing Supplies\")\n",
        "manager.add_item(5,\"Small Envelope\",100,\"Mailing Supplies\")"
      ],
      "metadata": {
        "colab": {
          "base_uri": "https://localhost:8080/"
        },
        "id": "vKs3P5tSMV3s",
        "outputId": "1a400acf-3c4a-40da-9069-fdaa030c3d8b"
      },
      "execution_count": 2,
      "outputs": [
        {
          "output_type": "stream",
          "name": "stdout",
          "text": [
            "Successfully added 3 Pen's with ItemID 1 into the inventory.\n",
            "Successfully added 2 Laptop's with ItemID 2 into the inventory.\n",
            "Successfully added 2 Phone's with ItemID 3 into the inventory.\n",
            "Successfully added 40 Large Box's with ItemID 4 into the inventory.\n",
            "Successfully added 100 Small Envelope's with ItemID 5 into the inventory.\n"
          ]
        }
      ]
    },
    {
      "cell_type": "code",
      "source": [
        "manager.add_item(1,\"Pen\",3,\"Supplies\")"
      ],
      "metadata": {
        "colab": {
          "base_uri": "https://localhost:8080/"
        },
        "id": "1a2iW501_QsV",
        "outputId": "ed644853-2871-46b8-bb6b-88000c4d7f10"
      },
      "execution_count": 3,
      "outputs": [
        {
          "output_type": "stream",
          "name": "stdout",
          "text": [
            "Product with ItemID: 1 already exists within the inventory.Did you want to update the quantity of this product? Enter yes or no: yes\n",
            "ItemID: 1\n",
            "Product Name: Pen\n",
            "Quantity: 6\n",
            "Category: Supplies\n"
          ]
        }
      ]
    },
    {
      "cell_type": "code",
      "source": [
        "manager.add_item(1,\"Pen\",3,\"Supplies\")"
      ],
      "metadata": {
        "colab": {
          "base_uri": "https://localhost:8080/"
        },
        "id": "NUgGOg6w_eAu",
        "outputId": "4463b5d1-56b9-49f4-c5c1-51c6cc714928"
      },
      "execution_count": 4,
      "outputs": [
        {
          "output_type": "stream",
          "name": "stdout",
          "text": [
            "Product with ItemID: 1 already exists within the inventory.Did you want to update the quantity of this product? Enter yes or no: no\n",
            "Product with ItemID already exists. Please confirm action and try again.\n"
          ]
        }
      ]
    },
    {
      "cell_type": "code",
      "source": [
        "manager.display(1)"
      ],
      "metadata": {
        "colab": {
          "base_uri": "https://localhost:8080/"
        },
        "id": "mbNi-_x7q2B-",
        "outputId": "6e8363c2-a17d-4a8e-effc-0a6e0e7dac30"
      },
      "execution_count": 5,
      "outputs": [
        {
          "output_type": "stream",
          "name": "stdout",
          "text": [
            "ItemID: 1\n",
            "Product Name: Pen\n",
            "Quantity: 6\n",
            "Category: Supplies\n"
          ]
        }
      ]
    },
    {
      "cell_type": "code",
      "source": [
        "manager.update_item(1,4)\n",
        "manager.update_item(10,5)\n"
      ],
      "metadata": {
        "colab": {
          "base_uri": "https://localhost:8080/"
        },
        "id": "766VHaasrScP",
        "outputId": "5811c65f-d7f6-483a-8e4b-46dfa13eb773"
      },
      "execution_count": 6,
      "outputs": [
        {
          "output_type": "stream",
          "name": "stdout",
          "text": [
            "ItemID: 1\n",
            "Product Name: Pen\n",
            "Quantity: 10\n",
            "Category: Supplies\n",
            "Product with ItemID 10 not found in inventory. Would you like to add this item into the inventory? Enter yes or no: yes\n",
            "Enter the item name: Small Box\n",
            "Enter the item category: Mailing Supplies\n",
            "Successfully added 5 Small Box's with ItemID 10 into the inventory.\n",
            "ItemID: 10\n",
            "Product Name: Small Box\n",
            "Quantity: 5\n",
            "Category: Mailing Supplies\n"
          ]
        }
      ]
    },
    {
      "cell_type": "code",
      "source": [
        "manager.update_item(40,5)"
      ],
      "metadata": {
        "colab": {
          "base_uri": "https://localhost:8080/"
        },
        "id": "JWEikCG7_JKn",
        "outputId": "13b0d68f-e187-4ab0-fa07-bb82bbdecc10"
      },
      "execution_count": 7,
      "outputs": [
        {
          "output_type": "stream",
          "name": "stdout",
          "text": [
            "Product with ItemID 40 not found in inventory. Would you like to add this item into the inventory? Enter yes or no: no\n",
            "Please try update again with correct ItemID.\n"
          ]
        }
      ]
    },
    {
      "cell_type": "code",
      "source": [
        "manager.delete_item(2)\n",
        "manager.delete_item(6)"
      ],
      "metadata": {
        "colab": {
          "base_uri": "https://localhost:8080/"
        },
        "id": "1iTP2atKsBNx",
        "outputId": "2e2125a9-7479-4761-9c00-4f6ed6841bd4"
      },
      "execution_count": 8,
      "outputs": [
        {
          "output_type": "stream",
          "name": "stdout",
          "text": [
            "Successfully deleted product with ItemID 2.\n",
            "Error in deletion. ItemID 6 not found in inventory.\n"
          ]
        }
      ]
    }
  ]
}